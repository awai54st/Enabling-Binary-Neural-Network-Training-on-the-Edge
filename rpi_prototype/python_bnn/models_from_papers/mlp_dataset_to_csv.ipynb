{
 "cells": [
  {
   "cell_type": "code",
   "execution_count": 2,
   "id": "a9b3cc7e",
   "metadata": {},
   "outputs": [],
   "source": [
    "import sys\n",
    "import os\n",
    "sys.path.insert(0, os.path.abspath(\"../../ml_cpu/lib/python3.8/site-packages/\"))\n",
    "sys.path.insert(0, os.path.abspath(\"../\"))\n",
    "import numpy as np\n",
    "import pandas as pd\n",
    "from core.label_utils import label_binerizer"
   ]
  },
  {
   "cell_type": "code",
   "execution_count": 3,
   "id": "4a02af5e",
   "metadata": {},
   "outputs": [
    {
     "name": "stdout",
     "output_type": "stream",
     "text": [
      "(60000, 784)\n",
      "1.0\n",
      "-1.0\n"
     ]
    }
   ],
   "source": [
    "filename = \"./mnist_data/mnist_X_train.npy\"\n",
    "train_data = 2*(np.load(filename)/255)-1\n",
    "print(train_data.shape)\n",
    "print(train_data.max())\n",
    "print(train_data.min())\n",
    "#np.savetxt(\"../dataset/csv/mnist/mnist_X_train.csv\", train_data, delimiter=\",\")\n",
    "train_data = pd.DataFrame(train_data)\n",
    "train_data.to_csv(\"../dataset/csv/mnist/mnist_X_train.csv\", header=False, index=False)"
   ]
  },
  {
   "cell_type": "code",
   "execution_count": 4,
   "id": "11415ab9",
   "metadata": {},
   "outputs": [
    {
     "name": "stdout",
     "output_type": "stream",
     "text": [
      "(60000,)\n",
      "(60000, 10)\n"
     ]
    }
   ],
   "source": [
    "filename = \"./mnist_data/mnist_y_train.npy\"\n",
    "train_data = np.load(filename)\n",
    "print(train_data.shape)\n",
    "train_data = label_binerizer(train_data.astype(int), n_class=10).astype(int)\n",
    "print(train_data.shape)\n",
    "#np.savetxt(\"../dataset/csv/mnist/mnist_y_train.csv\", train_data, delimiter=\",\")\n",
    "pd.DataFrame(train_data).to_csv(\"../dataset/csv/mnist/mnist_y_train.csv\", header=False, index=False)"
   ]
  },
  {
   "cell_type": "code",
   "execution_count": 2,
   "id": "58e740d5",
   "metadata": {},
   "outputs": [
    {
     "name": "stdout",
     "output_type": "stream",
     "text": [
      "(2000, 784)\n",
      "1.0\n",
      "-1.0\n"
     ]
    }
   ],
   "source": [
    "filename = \"./mnist_data/mnist_X_test.npy\"\n",
    "train_data = 2*(np.load(filename)/255)-1\n",
    "print(train_data.shape)\n",
    "print(train_data.max())\n",
    "print(train_data.min())\n",
    "#np.savetxt(\"../dataset/csv/mnist/mnist_X_test.csv\", train_data, delimiter=\",\")\n",
    "pd.DataFrame(train_data).to_csv(\"../dataset/csv/mnist/mnist_X_test.csv\", header=False, index=False)"
   ]
  },
  {
   "cell_type": "code",
   "execution_count": 5,
   "id": "616d2235",
   "metadata": {},
   "outputs": [
    {
     "name": "stdout",
     "output_type": "stream",
     "text": [
      "(2000,)\n",
      "(2000, 10)\n"
     ]
    }
   ],
   "source": [
    "filename = \"./mnist_data/mnist_y_test.npy\"\n",
    "train_data = np.load(filename)\n",
    "print(train_data.shape)\n",
    "train_data = label_binerizer(train_data.astype(int), n_class=10).astype(int)\n",
    "print(train_data.shape)\n",
    "#np.savetxt(\"../dataset/csv/mnist/mnist_y_train.csv\", train_data, delimiter=\",\")\n",
    "pd.DataFrame(train_data).to_csv(\"../dataset/csv/mnist/mnist_y_test.csv\", header=False, index=False)"
   ]
  },
  {
   "cell_type": "code",
   "execution_count": null,
   "id": "410ba115",
   "metadata": {},
   "outputs": [],
   "source": []
  }
 ],
 "metadata": {
  "kernelspec": {
   "display_name": "Python 3",
   "language": "python",
   "name": "python3"
  },
  "language_info": {
   "codemirror_mode": {
    "name": "ipython",
    "version": 3
   },
   "file_extension": ".py",
   "mimetype": "text/x-python",
   "name": "python",
   "nbconvert_exporter": "python",
   "pygments_lexer": "ipython3",
   "version": "3.8.10"
  }
 },
 "nbformat": 4,
 "nbformat_minor": 5
}
