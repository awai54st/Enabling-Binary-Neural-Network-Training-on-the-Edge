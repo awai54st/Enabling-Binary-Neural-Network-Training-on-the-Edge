{
 "cells": [
  {
   "cell_type": "code",
   "execution_count": 1,
   "metadata": {
    "ExecuteTime": {
     "end_time": "2021-12-10T23:34:23.995009Z",
     "start_time": "2021-12-10T23:34:23.761993Z"
    }
   },
   "outputs": [],
   "source": [
    "from core.test.test_initializers import test_dense_w_init, test_conv_w_init\n",
    "\n",
    "test_dense_w_init()\n",
    "test_conv_w_init()"
   ]
  },
  {
   "cell_type": "code",
   "execution_count": 2,
   "metadata": {
    "ExecuteTime": {
     "end_time": "2021-12-10T23:34:34.672838Z",
     "start_time": "2021-12-10T23:34:23.998011Z"
    }
   },
   "outputs": [],
   "source": [
    "from core.test.test_optimizers import test_Adam_completely_equal\n",
    "\n",
    "test_Adam_completely_equal()"
   ]
  },
  {
   "cell_type": "code",
   "execution_count": 3,
   "metadata": {
    "ExecuteTime": {
     "end_time": "2021-12-10T23:34:45.365193Z",
     "start_time": "2021-12-10T23:34:34.674833Z"
    }
   },
   "outputs": [],
   "source": [
    "from core.test.numpy_models.full_precision_models.test_pooling_layers import (\n",
    "    test_MaxPooling_2_2, \n",
    "    test_MaxPooling_2_2_large_int_input, test_MaxPooling_2_2_small_int_input)\n",
    "\n",
    "test_MaxPooling_2_2()\n",
    "test_MaxPooling_2_2_large_int_input()\n",
    "test_MaxPooling_2_2_small_int_input()"
   ]
  },
  {
   "cell_type": "code",
   "execution_count": 4,
   "metadata": {
    "ExecuteTime": {
     "end_time": "2021-12-10T23:34:46.636060Z",
     "start_time": "2021-12-10T23:34:45.367891Z"
    }
   },
   "outputs": [],
   "source": [
    "from core.test.numpy_models.full_precision_models.test_layers import (\n",
    "    test_Flatten, test_Flatten_large_input_int\n",
    ") \n",
    "test_Flatten()\n",
    "test_Flatten_large_input_int()"
   ]
  },
  {
   "cell_type": "code",
   "execution_count": 5,
   "metadata": {
    "ExecuteTime": {
     "end_time": "2021-12-10T23:34:53.986714Z",
     "start_time": "2021-12-10T23:34:46.638924Z"
    }
   },
   "outputs": [],
   "source": [
    "from core.test.numpy_models.binary_models.test_activation_layers import (\n",
    "    test_BinaryActivation_large_conv, test_BinaryActivation_small_conv, \n",
    "    test_BinaryActivation_large_dense, test_BinaryActivation_large_conv_int\n",
    ")\n",
    "\n",
    "test_BinaryActivation_large_conv_int()\n",
    "test_BinaryActivation_large_conv()\n",
    "test_BinaryActivation_small_conv()\n",
    "test_BinaryActivation_large_dense()"
   ]
  },
  {
   "cell_type": "code",
   "execution_count": 6,
   "metadata": {
    "ExecuteTime": {
     "end_time": "2021-12-10T23:34:58.394857Z",
     "start_time": "2021-12-10T23:34:53.989616Z"
    }
   },
   "outputs": [],
   "source": [
    "from core.test.numpy_models.binary_models.test_binarization_utils import (\n",
    "    test_binarize_weight, test_binarize_weight_large_int)\n",
    "\n",
    "test_binarize_weight()\n",
    "test_binarize_weight_large_int()"
   ]
  },
  {
   "cell_type": "code",
   "execution_count": 7,
   "metadata": {
    "ExecuteTime": {
     "end_time": "2021-12-10T23:34:59.778757Z",
     "start_time": "2021-12-10T23:34:58.397824Z"
    }
   },
   "outputs": [],
   "source": [
    "from core.test.numpy_models.xnor_models.test_gradient_quantization_utils import (\n",
    "    test_FXP_quantize, test_FXP_quantize_large_int,\n",
    "    test_log2, test_LOG_quantize, test_LOG_quantize_with_zeros)\n",
    "\n",
    "test_FXP_quantize()\n",
    "test_FXP_quantize_large_int()\n",
    "test_log2()\n",
    "test_LOG_quantize()\n",
    "test_LOG_quantize_with_zeros()"
   ]
  },
  {
   "cell_type": "code",
   "execution_count": 8,
   "metadata": {
    "ExecuteTime": {
     "end_time": "2021-12-10T23:35:16.416029Z",
     "start_time": "2021-12-10T23:34:59.782100Z"
    }
   },
   "outputs": [
    {
     "name": "stderr",
     "output_type": "stream",
     "text": [
      "C:\\Users\\user\\AppData\\Roaming\\Python\\Python38\\site-packages\\keras\\backend.py:401: UserWarning: `tf.keras.backend.set_learning_phase` is deprecated and will be removed after 2020-10-11. To update it, simply pass a True/False value to the `training` argument of the `__call__` method of your layer or model.\n",
      "  warnings.warn('`tf.keras.backend.set_learning_phase` is deprecated and '\n"
     ]
    }
   ],
   "source": [
    "from core.test.numpy_models.xnor_models.test_bit_packed_layers import (\n",
    "    test_XNorConv2D, test_XNorConv2D_large_weight, test_XNorConv2D_same, \n",
    "    test_XNorConv2D_same_first_layer, test_XNorConv2D_large, test_XNorConv2D_256, \n",
    "    test_XNorConv2D_512)\n",
    "\n",
    "test_XNorConv2D()\n",
    "test_XNorConv2D_large_weight()\n",
    "test_XNorConv2D_same()\n",
    "test_XNorConv2D_same_first_layer()\n",
    "test_XNorConv2D_large()\n",
    "test_XNorConv2D_256()\n",
    "test_XNorConv2D_512()"
   ]
  },
  {
   "cell_type": "code",
   "execution_count": 9,
   "metadata": {
    "ExecuteTime": {
     "end_time": "2021-12-10T23:35:16.710676Z",
     "start_time": "2021-12-10T23:35:16.418966Z"
    }
   },
   "outputs": [],
   "source": [
    "from core.test.numpy_models.xnor_models.test_bit_packed_layers import (\n",
    "    test_XNorDense, test_XNorDense_large, test_XNorDense_1024, \n",
    "    test_XNorDense_1024_large_int\n",
    ")\n",
    "test_XNorDense()\n",
    "test_XNorDense_large()\n",
    "test_XNorDense_1024()\n",
    "test_XNorDense_1024_large_int()"
   ]
  },
  {
   "cell_type": "code",
   "execution_count": 10,
   "metadata": {
    "ExecuteTime": {
     "end_time": "2021-12-10T23:35:22.812752Z",
     "start_time": "2021-12-10T23:35:16.713619Z"
    },
    "scrolled": true
   },
   "outputs": [],
   "source": [
    "from core.test.numpy_models.xnor_models.test_bit_packed_layers import (\n",
    "    test_BatchNorm_conv, test_BatchNorm_conv_large,\n",
    "    test_BatchNorm_dense, test_BatchNorm_dense_large, test_BatchNorm_dense_large_int)\n",
    "\n",
    "\n",
    "test_BatchNorm_conv()\n",
    "test_BatchNorm_conv_large()\n",
    "test_BatchNorm_dense()\n",
    "test_BatchNorm_dense_large()\n",
    "test_BatchNorm_dense_large_int()"
   ]
  },
  {
   "cell_type": "code",
   "execution_count": 11,
   "metadata": {
    "ExecuteTime": {
     "end_time": "2021-12-10T23:35:22.858450Z",
     "start_time": "2021-12-10T23:35:22.814720Z"
    }
   },
   "outputs": [],
   "source": [
    "from core.test.test_losses import (\n",
    "    test_Softmax_CrossEntropy, test_Softmax_CrossEntropy_large,\n",
    "    test_Softmax_CrossEntropy_small_int, test_Softmax_CrossEntropy_large_int\n",
    ")\n",
    "    \n",
    "test_Softmax_CrossEntropy()\n",
    "test_Softmax_CrossEntropy_large()\n",
    "test_Softmax_CrossEntropy_small_int()\n",
    "test_Softmax_CrossEntropy_large_int()"
   ]
  },
  {
   "cell_type": "markdown",
   "metadata": {},
   "source": [
    "## faster implementation"
   ]
  },
  {
   "cell_type": "code",
   "execution_count": 12,
   "metadata": {
    "ExecuteTime": {
     "end_time": "2021-12-10T23:42:10.747314Z",
     "start_time": "2021-12-10T23:35:22.861440Z"
    }
   },
   "outputs": [
    {
     "name": "stdout",
     "output_type": "stream",
     "text": [
      "here\n"
     ]
    }
   ],
   "source": [
    "from core.test.utils.test_conv_utils import (\n",
    "    test_faster_convolution_w_4x4x5x6_s_1, test_faster_convolution_w_4x4x5x6_s_2,\n",
    "    test_faster_convolution_w_3x3x2x4_s_1, test_faster_convolution_w_3x3x2x4_s_2,\n",
    "    test_faster_convolution_w_3x3x512x512_s_1\n",
    ")\n",
    "from core.test.utils.test_conv_utils import (\n",
    "    test_faster_backprop_dw_w_3x3x2x4_s_1, test_faster_backprop_dw_w_3x3x2x4_s_2\n",
    ")\n",
    "\n",
    "test_faster_convolution_w_4x4x5x6_s_1()\n",
    "test_faster_convolution_w_4x4x5x6_s_2()\n",
    "test_faster_convolution_w_3x3x2x4_s_1()\n",
    "test_faster_convolution_w_3x3x2x4_s_2()\n",
    "test_faster_backprop_dw_w_3x3x2x4_s_1()\n",
    "test_faster_backprop_dw_w_3x3x2x4_s_2()\n",
    "test_faster_convolution_w_3x3x512x512_s_1()\n",
    "print(\"here\")\n",
    "test_faster_convolution_w_3x3x512x512_s_1()"
   ]
  },
  {
   "cell_type": "code",
   "execution_count": null,
   "metadata": {},
   "outputs": [],
   "source": []
  }
 ],
 "metadata": {
  "kernelspec": {
   "display_name": "Python 3",
   "language": "python",
   "name": "python3"
  },
  "language_info": {
   "codemirror_mode": {
    "name": "ipython",
    "version": 3
   },
   "file_extension": ".py",
   "mimetype": "text/x-python",
   "name": "python",
   "nbconvert_exporter": "python",
   "pygments_lexer": "ipython3",
   "version": "3.8.5"
  }
 },
 "nbformat": 4,
 "nbformat_minor": 4
}
